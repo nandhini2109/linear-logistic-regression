{
 "cells": [
  {
   "cell_type": "code",
   "execution_count": 34,
   "id": "4b7535a0",
   "metadata": {},
   "outputs": [],
   "source": [
    "import numpy as np\n",
    "import pandas as pd"
   ]
  },
  {
   "cell_type": "code",
   "execution_count": 35,
   "id": "e68f61bc",
   "metadata": {},
   "outputs": [],
   "source": [
    "X = [9.0, 8.0, 9.3, 9.4, 3.2, 2.2, 3.2, 1.1]\n",
    "Y = [1, 1, 1, 1, 0, 0, 0, 0]\n",
    "dataset = pd.DataFrame(data={\n",
    "    'X' : X,\n",
    "    'Y' : Y\n",
    "})"
   ]
  },
  {
   "cell_type": "code",
   "execution_count": 36,
   "id": "e2128316",
   "metadata": {},
   "outputs": [
    {
     "data": {
      "text/html": [
       "<div>\n",
       "<style scoped>\n",
       "    .dataframe tbody tr th:only-of-type {\n",
       "        vertical-align: middle;\n",
       "    }\n",
       "\n",
       "    .dataframe tbody tr th {\n",
       "        vertical-align: top;\n",
       "    }\n",
       "\n",
       "    .dataframe thead th {\n",
       "        text-align: right;\n",
       "    }\n",
       "</style>\n",
       "<table border=\"1\" class=\"dataframe\">\n",
       "  <thead>\n",
       "    <tr style=\"text-align: right;\">\n",
       "      <th></th>\n",
       "      <th>X</th>\n",
       "      <th>Y</th>\n",
       "    </tr>\n",
       "  </thead>\n",
       "  <tbody>\n",
       "    <tr>\n",
       "      <th>0</th>\n",
       "      <td>9.0</td>\n",
       "      <td>1</td>\n",
       "    </tr>\n",
       "    <tr>\n",
       "      <th>1</th>\n",
       "      <td>8.0</td>\n",
       "      <td>1</td>\n",
       "    </tr>\n",
       "    <tr>\n",
       "      <th>2</th>\n",
       "      <td>9.3</td>\n",
       "      <td>1</td>\n",
       "    </tr>\n",
       "    <tr>\n",
       "      <th>3</th>\n",
       "      <td>9.4</td>\n",
       "      <td>1</td>\n",
       "    </tr>\n",
       "    <tr>\n",
       "      <th>4</th>\n",
       "      <td>3.2</td>\n",
       "      <td>0</td>\n",
       "    </tr>\n",
       "    <tr>\n",
       "      <th>5</th>\n",
       "      <td>2.2</td>\n",
       "      <td>0</td>\n",
       "    </tr>\n",
       "    <tr>\n",
       "      <th>6</th>\n",
       "      <td>3.2</td>\n",
       "      <td>0</td>\n",
       "    </tr>\n",
       "    <tr>\n",
       "      <th>7</th>\n",
       "      <td>1.1</td>\n",
       "      <td>0</td>\n",
       "    </tr>\n",
       "  </tbody>\n",
       "</table>\n",
       "</div>"
      ],
      "text/plain": [
       "     X  Y\n",
       "0  9.0  1\n",
       "1  8.0  1\n",
       "2  9.3  1\n",
       "3  9.4  1\n",
       "4  3.2  0\n",
       "5  2.2  0\n",
       "6  3.2  0\n",
       "7  1.1  0"
      ]
     },
     "execution_count": 36,
     "metadata": {},
     "output_type": "execute_result"
    }
   ],
   "source": [
    "dataset"
   ]
  },
  {
   "cell_type": "code",
   "execution_count": 37,
   "id": "5df0bd36",
   "metadata": {},
   "outputs": [],
   "source": [
    "dataset['XY'] = dataset['X']*dataset['Y']\n",
    "dataset['X2'] = dataset['X']** 2"
   ]
  },
  {
   "cell_type": "code",
   "execution_count": 38,
   "id": "057df1c2",
   "metadata": {},
   "outputs": [
    {
     "data": {
      "text/html": [
       "<div>\n",
       "<style scoped>\n",
       "    .dataframe tbody tr th:only-of-type {\n",
       "        vertical-align: middle;\n",
       "    }\n",
       "\n",
       "    .dataframe tbody tr th {\n",
       "        vertical-align: top;\n",
       "    }\n",
       "\n",
       "    .dataframe thead th {\n",
       "        text-align: right;\n",
       "    }\n",
       "</style>\n",
       "<table border=\"1\" class=\"dataframe\">\n",
       "  <thead>\n",
       "    <tr style=\"text-align: right;\">\n",
       "      <th></th>\n",
       "      <th>X</th>\n",
       "      <th>Y</th>\n",
       "      <th>XY</th>\n",
       "      <th>X2</th>\n",
       "    </tr>\n",
       "  </thead>\n",
       "  <tbody>\n",
       "    <tr>\n",
       "      <th>0</th>\n",
       "      <td>9.0</td>\n",
       "      <td>1</td>\n",
       "      <td>9.0</td>\n",
       "      <td>81.00</td>\n",
       "    </tr>\n",
       "    <tr>\n",
       "      <th>1</th>\n",
       "      <td>8.0</td>\n",
       "      <td>1</td>\n",
       "      <td>8.0</td>\n",
       "      <td>64.00</td>\n",
       "    </tr>\n",
       "    <tr>\n",
       "      <th>2</th>\n",
       "      <td>9.3</td>\n",
       "      <td>1</td>\n",
       "      <td>9.3</td>\n",
       "      <td>86.49</td>\n",
       "    </tr>\n",
       "    <tr>\n",
       "      <th>3</th>\n",
       "      <td>9.4</td>\n",
       "      <td>1</td>\n",
       "      <td>9.4</td>\n",
       "      <td>88.36</td>\n",
       "    </tr>\n",
       "    <tr>\n",
       "      <th>4</th>\n",
       "      <td>3.2</td>\n",
       "      <td>0</td>\n",
       "      <td>0.0</td>\n",
       "      <td>10.24</td>\n",
       "    </tr>\n",
       "    <tr>\n",
       "      <th>5</th>\n",
       "      <td>2.2</td>\n",
       "      <td>0</td>\n",
       "      <td>0.0</td>\n",
       "      <td>4.84</td>\n",
       "    </tr>\n",
       "    <tr>\n",
       "      <th>6</th>\n",
       "      <td>3.2</td>\n",
       "      <td>0</td>\n",
       "      <td>0.0</td>\n",
       "      <td>10.24</td>\n",
       "    </tr>\n",
       "    <tr>\n",
       "      <th>7</th>\n",
       "      <td>1.1</td>\n",
       "      <td>0</td>\n",
       "      <td>0.0</td>\n",
       "      <td>1.21</td>\n",
       "    </tr>\n",
       "  </tbody>\n",
       "</table>\n",
       "</div>"
      ],
      "text/plain": [
       "     X  Y   XY     X2\n",
       "0  9.0  1  9.0  81.00\n",
       "1  8.0  1  8.0  64.00\n",
       "2  9.3  1  9.3  86.49\n",
       "3  9.4  1  9.4  88.36\n",
       "4  3.2  0  0.0  10.24\n",
       "5  2.2  0  0.0   4.84\n",
       "6  3.2  0  0.0  10.24\n",
       "7  1.1  0  0.0   1.21"
      ]
     },
     "execution_count": 38,
     "metadata": {},
     "output_type": "execute_result"
    }
   ],
   "source": [
    "dataset"
   ]
  },
  {
   "cell_type": "code",
   "execution_count": null,
   "id": "9fd1cb38",
   "metadata": {},
   "outputs": [],
   "source": []
  },
  {
   "cell_type": "code",
   "execution_count": null,
   "id": "862c2a05",
   "metadata": {},
   "outputs": [],
   "source": []
  },
  {
   "cell_type": "code",
   "execution_count": 39,
   "id": "3a3714b9",
   "metadata": {},
   "outputs": [],
   "source": [
    "n = len(dataset)\n",
    "sum_x =dataset['X'].sum()\n",
    "sum_y =dataset['Y'].sum()\n",
    "sum_xy =dataset['XY'].sum()\n",
    "sum_x2 =dataset['X2'].sum()\n",
    "sum_X_h2 =sum_x**2"
   ]
  },
  {
   "cell_type": "code",
   "execution_count": 40,
   "id": "f279c1a6",
   "metadata": {},
   "outputs": [
    {
     "data": {
      "text/plain": [
       "(8, 45.400000000000006, 4, 35.7, 346.38000000000005, 2061.1600000000003)"
      ]
     },
     "execution_count": 40,
     "metadata": {},
     "output_type": "execute_result"
    }
   ],
   "source": [
    "n, sum_x, sum_y, sum_xy, sum_x2, sum_X_h2"
   ]
  },
  {
   "cell_type": "code",
   "execution_count": 41,
   "id": "dbac8b13",
   "metadata": {},
   "outputs": [
    {
     "data": {
      "text/plain": [
       "104.0"
      ]
     },
     "execution_count": 41,
     "metadata": {},
     "output_type": "execute_result"
    }
   ],
   "source": [
    "numerator_m=(n*(sum_xy))- (sum_x*sum_y)\n",
    "numerator_m"
   ]
  },
  {
   "cell_type": "code",
   "execution_count": 42,
   "id": "5949e83f",
   "metadata": {},
   "outputs": [
    {
     "data": {
      "text/plain": [
       "709.8800000000001"
      ]
     },
     "execution_count": 42,
     "metadata": {},
     "output_type": "execute_result"
    }
   ],
   "source": [
    "denominator_m=(n*(sum_x2)- sum_X_h2)\n",
    "denominator_m"
   ]
  },
  {
   "cell_type": "code",
   "execution_count": 43,
   "id": "6efd80f3",
   "metadata": {},
   "outputs": [],
   "source": [
    "m = numerator_m / denominator_m"
   ]
  },
  {
   "cell_type": "code",
   "execution_count": 44,
   "id": "bb079e28",
   "metadata": {},
   "outputs": [
    {
     "data": {
      "text/plain": [
       "0.14650363441708456"
      ]
     },
     "execution_count": 44,
     "metadata": {},
     "output_type": "execute_result"
    }
   ],
   "source": [
    "m"
   ]
  },
  {
   "cell_type": "code",
   "execution_count": 45,
   "id": "f30ccb7a",
   "metadata": {},
   "outputs": [
    {
     "data": {
      "text/plain": [
       "-0.33140812531695496"
      ]
     },
     "execution_count": 45,
     "metadata": {},
     "output_type": "execute_result"
    }
   ],
   "source": [
    "numerator_b =  sum_y - (m * sum_x)\n",
    "denominator_b = n\n",
    "\n",
    "b = numerator_b/denominator_b\n",
    "b"
   ]
  },
  {
   "cell_type": "code",
   "execution_count": 46,
   "id": "f9447d17",
   "metadata": {},
   "outputs": [
    {
     "data": {
      "text/plain": [
       "(0.14650363441708456, -0.33140812531695496)"
      ]
     },
     "execution_count": 46,
     "metadata": {},
     "output_type": "execute_result"
    }
   ],
   "source": [
    "m, b"
   ]
  },
  {
   "cell_type": "code",
   "execution_count": 47,
   "id": "9466750c",
   "metadata": {},
   "outputs": [
    {
     "data": {
      "text/plain": [
       "[0.987124584436806,\n",
       " 0.8406209500197215,\n",
       " 1.0310756747619314,\n",
       " 1.04572603820364,\n",
       " 0.13740350481771563,\n",
       " -0.0091001295993689,\n",
       " 0.13740350481771563,\n",
       " -0.17025412745816193]"
      ]
     },
     "execution_count": 47,
     "metadata": {},
     "output_type": "execute_result"
    }
   ],
   "source": [
    "x_cap = [m*x+b for x in dataset['X']]\n",
    "x_cap"
   ]
  },
  {
   "cell_type": "markdown",
   "id": "50766258",
   "metadata": {},
   "source": [
    "$$Xcap=mX+b$$"
   ]
  },
  {
   "cell_type": "markdown",
   "id": "011ebb50",
   "metadata": {},
   "source": [
    "$$y = \\frac{1}{1+e^{-X_{cap}}}$$"
   ]
  },
  {
   "cell_type": "code",
   "execution_count": 48,
   "id": "99762fa5",
   "metadata": {},
   "outputs": [],
   "source": [
    "y = [1 /(1 + np.exp(-Xcap)) for Xcap in x_cap]"
   ]
  },
  {
   "cell_type": "code",
   "execution_count": 49,
   "id": "763a79a7",
   "metadata": {},
   "outputs": [],
   "source": [
    "# y >= 0.5 = 1\n",
    "# y < 0 .5 = 0"
   ]
  },
  {
   "cell_type": "code",
   "execution_count": 50,
   "id": "b7320e49",
   "metadata": {
    "scrolled": true
   },
   "outputs": [],
   "source": [
    "result = [1 if yvals>= 0.5 else 0 for yvals in y]   "
   ]
  },
  {
   "cell_type": "code",
   "execution_count": 51,
   "id": "15e45b4a",
   "metadata": {},
   "outputs": [
    {
     "data": {
      "text/plain": [
       "[1, 1, 1, 1, 1, 0, 1, 0]"
      ]
     },
     "execution_count": 51,
     "metadata": {},
     "output_type": "execute_result"
    }
   ],
   "source": [
    "result"
   ]
  },
  {
   "cell_type": "code",
   "execution_count": 52,
   "id": "88e39f9f",
   "metadata": {},
   "outputs": [],
   "source": [
    "dataset['RESULT'] = result"
   ]
  },
  {
   "cell_type": "code",
   "execution_count": 53,
   "id": "e24970a5",
   "metadata": {},
   "outputs": [
    {
     "data": {
      "text/html": [
       "<div>\n",
       "<style scoped>\n",
       "    .dataframe tbody tr th:only-of-type {\n",
       "        vertical-align: middle;\n",
       "    }\n",
       "\n",
       "    .dataframe tbody tr th {\n",
       "        vertical-align: top;\n",
       "    }\n",
       "\n",
       "    .dataframe thead th {\n",
       "        text-align: right;\n",
       "    }\n",
       "</style>\n",
       "<table border=\"1\" class=\"dataframe\">\n",
       "  <thead>\n",
       "    <tr style=\"text-align: right;\">\n",
       "      <th></th>\n",
       "      <th>X</th>\n",
       "      <th>Y</th>\n",
       "      <th>XY</th>\n",
       "      <th>X2</th>\n",
       "      <th>RESULT</th>\n",
       "    </tr>\n",
       "  </thead>\n",
       "  <tbody>\n",
       "    <tr>\n",
       "      <th>0</th>\n",
       "      <td>9.0</td>\n",
       "      <td>1</td>\n",
       "      <td>9.0</td>\n",
       "      <td>81.00</td>\n",
       "      <td>1</td>\n",
       "    </tr>\n",
       "    <tr>\n",
       "      <th>1</th>\n",
       "      <td>8.0</td>\n",
       "      <td>1</td>\n",
       "      <td>8.0</td>\n",
       "      <td>64.00</td>\n",
       "      <td>1</td>\n",
       "    </tr>\n",
       "    <tr>\n",
       "      <th>2</th>\n",
       "      <td>9.3</td>\n",
       "      <td>1</td>\n",
       "      <td>9.3</td>\n",
       "      <td>86.49</td>\n",
       "      <td>1</td>\n",
       "    </tr>\n",
       "    <tr>\n",
       "      <th>3</th>\n",
       "      <td>9.4</td>\n",
       "      <td>1</td>\n",
       "      <td>9.4</td>\n",
       "      <td>88.36</td>\n",
       "      <td>1</td>\n",
       "    </tr>\n",
       "    <tr>\n",
       "      <th>4</th>\n",
       "      <td>3.2</td>\n",
       "      <td>0</td>\n",
       "      <td>0.0</td>\n",
       "      <td>10.24</td>\n",
       "      <td>1</td>\n",
       "    </tr>\n",
       "    <tr>\n",
       "      <th>5</th>\n",
       "      <td>2.2</td>\n",
       "      <td>0</td>\n",
       "      <td>0.0</td>\n",
       "      <td>4.84</td>\n",
       "      <td>0</td>\n",
       "    </tr>\n",
       "    <tr>\n",
       "      <th>6</th>\n",
       "      <td>3.2</td>\n",
       "      <td>0</td>\n",
       "      <td>0.0</td>\n",
       "      <td>10.24</td>\n",
       "      <td>1</td>\n",
       "    </tr>\n",
       "    <tr>\n",
       "      <th>7</th>\n",
       "      <td>1.1</td>\n",
       "      <td>0</td>\n",
       "      <td>0.0</td>\n",
       "      <td>1.21</td>\n",
       "      <td>0</td>\n",
       "    </tr>\n",
       "  </tbody>\n",
       "</table>\n",
       "</div>"
      ],
      "text/plain": [
       "     X  Y   XY     X2  RESULT\n",
       "0  9.0  1  9.0  81.00       1\n",
       "1  8.0  1  8.0  64.00       1\n",
       "2  9.3  1  9.3  86.49       1\n",
       "3  9.4  1  9.4  88.36       1\n",
       "4  3.2  0  0.0  10.24       1\n",
       "5  2.2  0  0.0   4.84       0\n",
       "6  3.2  0  0.0  10.24       1\n",
       "7  1.1  0  0.0   1.21       0"
      ]
     },
     "execution_count": 53,
     "metadata": {},
     "output_type": "execute_result"
    }
   ],
   "source": [
    "dataset"
   ]
  },
  {
   "cell_type": "code",
   "execution_count": 54,
   "id": "14fa68b5",
   "metadata": {},
   "outputs": [],
   "source": [
    "#accuracy "
   ]
  },
  {
   "cell_type": "code",
   "execution_count": 55,
   "id": "60e3e4a4",
   "metadata": {
    "scrolled": true
   },
   "outputs": [
    {
     "name": "stdout",
     "output_type": "stream",
     "text": [
      "EQUAL key 1, result 1,\n",
      " correct1\n",
      "EQUAL key 1, result 1,\n",
      " correct2\n",
      "EQUAL key 1, result 1,\n",
      " correct3\n",
      "EQUAL key 1, result 1,\n",
      " correct4\n",
      "EQUAL key 0, result 0,\n",
      " correct5\n",
      "EQUAL key 0, result 0,\n",
      " correct6\n"
     ]
    }
   ],
   "source": [
    "correct = 0 #inilizing the correct with 0\n",
    "keys = dataset['Y']\n",
    "result = dataset['RESULT']\n",
    "#print(type(values))\n",
    "for (key,result) in zip(keys,result):\n",
    "    \n",
    "   # print(f\"key {key}, result {result}\")\n",
    "    if key == result:\n",
    "        print(f\"EQUAL key {key}, result {result},\")\n",
    "        correct += 1\n",
    "        print(f\" correct{correct}\")\n",
    "    pass"
   ]
  },
  {
   "cell_type": "code",
   "execution_count": 56,
   "id": "9df25d99",
   "metadata": {},
   "outputs": [
    {
     "data": {
      "text/plain": [
       "0.75"
      ]
     },
     "execution_count": 56,
     "metadata": {},
     "output_type": "execute_result"
    }
   ],
   "source": [
    "correct/n"
   ]
  },
  {
   "cell_type": "code",
   "execution_count": null,
   "id": "62052e96",
   "metadata": {},
   "outputs": [],
   "source": []
  },
  {
   "cell_type": "code",
   "execution_count": 57,
   "id": "711d779b",
   "metadata": {},
   "outputs": [],
   "source": [
    "a= [[3,4],[5,6]]"
   ]
  },
  {
   "cell_type": "code",
   "execution_count": 58,
   "id": "cae7765a",
   "metadata": {},
   "outputs": [
    {
     "data": {
      "text/plain": [
       "list"
      ]
     },
     "execution_count": 58,
     "metadata": {},
     "output_type": "execute_result"
    }
   ],
   "source": [
    "type(a)"
   ]
  },
  {
   "cell_type": "code",
   "execution_count": 59,
   "id": "32bff0f2",
   "metadata": {},
   "outputs": [
    {
     "name": "stdout",
     "output_type": "stream",
     "text": [
      "1 2\n",
      "2 3\n",
      "3 4\n",
      "4 5\n",
      "5 6\n"
     ]
    }
   ],
   "source": [
    "l1 = [1, 2, 3, 4, 5]\n",
    "l2 = [2, 3, 4, 5, 6]\n",
    "l3 = [2, 3, 4, 5, 6]\n",
    "\n",
    "for ll, ee, rr in zip(l1, l2,l3):\n",
    "    print(ll,ee)"
   ]
  },
  {
   "cell_type": "code",
   "execution_count": 60,
   "id": "a19cd0aa",
   "metadata": {
    "scrolled": true
   },
   "outputs": [
    {
     "data": {
      "text/plain": [
       "0.75"
      ]
     },
     "execution_count": 60,
     "metadata": {},
     "output_type": "execute_result"
    }
   ],
   "source": [
    "correct/n"
   ]
  },
  {
   "cell_type": "code",
   "execution_count": 61,
   "id": "81571432",
   "metadata": {},
   "outputs": [
    {
     "name": "stdout",
     "output_type": "stream",
     "text": [
      "     X  Y\n",
      "0  9.0  1\n",
      "1  8.0  1\n",
      "2  9.3  1\n",
      "3  9.4  1\n",
      "4  3.2  0\n",
      "5  2.2  0\n",
      "6  3.2  0\n",
      "7  1.1  0\n",
      "\n",
      "\n",
      "Value of m 0.14650363441708456\n",
      "\n",
      "\n",
      "Value of b -0.33140812531695496\n",
      "\n",
      "\n",
      "data set with results\n",
      "     X  Y   XY     X2  RESULT\n",
      "0  9.0  1  9.0  81.00       1\n",
      "1  8.0  1  8.0  64.00       1\n",
      "2  9.3  1  9.3  86.49       1\n",
      "3  9.4  1  9.4  88.36       1\n",
      "4  3.2  0  0.0  10.24       1\n",
      "5  2.2  0  0.0   4.84       0\n",
      "6  3.2  0  0.0  10.24       1\n",
      "7  1.1  0  0.0   1.21       0\n",
      "\n",
      "\n"
     ]
    },
    {
     "data": {
      "image/png": "[encoded data removed]",
      "text/plain": [
       "<Figure size 432x288 with 1 Axes>"
      ]
     },
     "metadata": {
      "needs_background": "light"
     },
     "output_type": "display_data"
    },
    {
     "data": {
      "image/png": "[encoded data removed]",
      "text/plain": [
       "<Figure size 432x288 with 1 Axes>"
      ]
     },
     "metadata": {
      "needs_background": "light"
     },
     "output_type": "display_data"
    },
    {
     "name": "stdout",
     "output_type": "stream",
     "text": [
      "EQUAL key 1, result 1,\n",
      " correct1\n",
      "EQUAL key 1, result 1,\n",
      " correct2\n",
      "EQUAL key 1, result 1,\n",
      " correct3\n",
      "EQUAL key 1, result 1,\n",
      " correct4\n",
      "EQUAL key 0, result 0,\n",
      " correct5\n",
      "EQUAL key 0, result 0,\n",
      " correct6\n",
      "\n",
      "\n",
      "Accurancy 0.75\n"
     ]
    }
   ],
   "source": [
    "class LogisticRegression: \n",
    "    \n",
    "    def __init__(self):\n",
    "        import numpy as np\n",
    "        import pandas as pd\n",
    "        X = [9.0, 8.0, 9.3, 9.4, 3.2, 2.2, 3.2, 1.1]\n",
    "        Y = [1, 1, 1, 1, 0, 0, 0, 0]\n",
    "        dataset = pd.DataFrame(data={\n",
    "        'X' : X,\n",
    "        'Y' : Y\n",
    "        })\n",
    "        print(dataset)\n",
    "        print('\\n')\n",
    "        pass\n",
    "    \n",
    "    def find_m(self):\n",
    "        dataset['XY'] = dataset['X']*dataset['Y']\n",
    "        dataset['X2'] = dataset['X']**2\n",
    "        dataset\n",
    "        n = len(dataset)\n",
    "        sum_x =dataset['X'].sum()\n",
    "        sum_y =dataset['Y'].sum()\n",
    "        sum_xy =dataset['XY'].sum()\n",
    "        sum_x2 =dataset['X2'].sum()\n",
    "        sum_X_h2 =sum_x**2\n",
    "        n, sum_x, sum_y, sum_xy, sum_x2, sum_X_h2\n",
    "        numerator_m=(n*(sum_xy))- (sum_x*sum_y)\n",
    "        numerator_m\n",
    "        denominator_m=(n*(sum_x2)- sum_X_h2)\n",
    "        denominator_m\n",
    "        m = numerator_m / denominator_m\n",
    "        print('Value of m', m)\n",
    "        print('\\n')\n",
    "        pass\n",
    "    \n",
    "    def find_b(self):\n",
    "        numerator_b =  sum_y - (m * sum_x)\n",
    "        denominator_b = n\n",
    "        b = numerator_b/denominator_b\n",
    "        print('Value of b', b)\n",
    "        print('\\n')\n",
    "        pass\n",
    "\n",
    "\n",
    "    def find_result(self):\n",
    "        x_cap = [m*x+b for x in dataset['X']]\n",
    "        x_cap\n",
    "        y = [1 /(1 + np.exp(-Xcap)) for Xcap in x_cap]\n",
    "        result = [1 if yvals>= 0.5 else 0 for yvals in y] \n",
    "        result\n",
    "        dataset['RESULT'] = result\n",
    "        print(\"data set with results\")\n",
    "        print(dataset)\n",
    "        print('\\n')\n",
    "        pass\n",
    "\n",
    "    def visualization(self):\n",
    "        import matplotlib.pyplot as plt\n",
    "        plt.scatter(dataset['X'], dataset['Y']) # orgonal data\n",
    "        plt.show()\n",
    "        plt.scatter(dataset['X'], dataset['RESULT'], c='r') #predicted data\n",
    "        plt.show()\n",
    "        pass\n",
    "    \n",
    "    def accuracy(self):\n",
    "        correct = 0 #inilizing the correct with 0\n",
    "        keys = dataset['Y']\n",
    "        result = dataset['RESULT']\n",
    "                #print(type(values))\n",
    "        for (key,result) in zip(keys,result):\n",
    "    \n",
    "       # print(f\"key {key}, result {result}\")\n",
    "            if key == result:\n",
    "                print(f\"EQUAL key {key}, result {result},\")\n",
    "                correct += 1\n",
    "                print(f\" correct{correct}\")\n",
    "                pass\n",
    "        print('\\n')\n",
    "        print('Accurancy', correct/n)\n",
    "        pass\n",
    "        \n",
    "       \n",
    "oj = LogisticRegression()\n",
    "oj.find_m()\n",
    "oj.find_b()\n",
    "oj.find_result()\n",
    "oj.visualization()\n",
    "oj.accuracy()\n",
    "\n"
   ]
  },
  {
   "cell_type": "code",
   "execution_count": null,
   "id": "2b67e9a1",
   "metadata": {},
   "outputs": [],
   "source": []
  },
  {
   "cell_type": "code",
   "execution_count": 62,
   "id": "b111ed8e",
   "metadata": {},
   "outputs": [],
   "source": [
    "dataset_metrics = dataset[['Y', 'RESULT']]"
   ]
  },
  {
   "cell_type": "code",
   "execution_count": 63,
   "id": "9c8bfa58",
   "metadata": {},
   "outputs": [],
   "source": [
    "from sklearn.metrics import accuracy_score,classification_report,confusion_matrix"
   ]
  },
  {
   "cell_type": "code",
   "execution_count": 64,
   "id": "c9334e97",
   "metadata": {},
   "outputs": [
    {
     "data": {
      "text/plain": [
       "0.75"
      ]
     },
     "execution_count": 64,
     "metadata": {},
     "output_type": "execute_result"
    }
   ],
   "source": [
    "accuracy_score(dataset_metrics['Y'], dataset_metrics['RESULT'])"
   ]
  },
  {
   "cell_type": "code",
   "execution_count": 65,
   "id": "deb52aa7",
   "metadata": {},
   "outputs": [
    {
     "name": "stdout",
     "output_type": "stream",
     "text": [
      "              precision    recall  f1-score   support\n",
      "\n",
      "           0       1.00      0.50      0.67         4\n",
      "           1       0.67      1.00      0.80         4\n",
      "\n",
      "    accuracy                           0.75         8\n",
      "   macro avg       0.83      0.75      0.73         8\n",
      "weighted avg       0.83      0.75      0.73         8\n",
      "\n"
     ]
    }
   ],
   "source": [
    "print(classification_report(dataset_metrics['Y'], dataset_metrics['RESULT']))"
   ]
  },
  {
   "cell_type": "code",
   "execution_count": 66,
   "id": "4f2f07df",
   "metadata": {},
   "outputs": [
    {
     "data": {
      "text/plain": [
       "array([[2, 2],\n",
       "       [0, 4]], dtype=int64)"
      ]
     },
     "execution_count": 66,
     "metadata": {},
     "output_type": "execute_result"
    }
   ],
   "source": [
    "confusion_matrix(dataset_metrics['Y'], dataset_metrics['RESULT'])"
   ]
  },
  {
   "cell_type": "code",
   "execution_count": null,
   "id": "1fa6829c",
   "metadata": {},
   "outputs": [],
   "source": []
  },
  {
   "cell_type": "code",
   "execution_count": null,
   "id": "b7672e75",
   "metadata": {},
   "outputs": [],
   "source": []
  },
  {
   "cell_type": "code",
   "execution_count": null,
   "id": "483cb633",
   "metadata": {},
   "outputs": [],
   "source": []
  }
 ],
 "metadata": {
  "kernelspec": {
   "display_name": "Python 3 (ipykernel)",
   "language": "python",
   "name": "python3"
  },
  "language_info": {
   "codemirror_mode": {
    "name": "ipython",
    "version": 3
   },
   "file_extension": ".py",
   "mimetype": "text/x-python",
   "name": "python",
   "nbconvert_exporter": "python",
   "pygments_lexer": "ipython3",
   "version": "3.9.12"
  }
 },
 "nbformat": 4,
 "nbformat_minor": 5
}
